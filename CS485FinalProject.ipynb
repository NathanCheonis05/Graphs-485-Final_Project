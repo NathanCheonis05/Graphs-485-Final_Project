{
 "cells": [
  {
   "cell_type": "code",
   "execution_count": 1,
   "id": "e1121fe5",
   "metadata": {},
   "outputs": [],
   "source": [
    "import networkx as nx\n",
    "%matplotlib inline\n",
    "import pandas as pd"
   ]
  },
  {
   "cell_type": "code",
   "execution_count": 2,
   "id": "71306212",
   "metadata": {},
   "outputs": [
    {
     "name": "stdout",
     "output_type": "stream",
     "text": [
      "DiGraph with 475 nodes and 13289 edges\n",
      "Error in callback <function flush_figures at 0x000002126BDBF2E0> (for post_execute), with arguments args (),kwargs {}:\n"
     ]
    },
    {
     "ename": "KeyboardInterrupt",
     "evalue": "",
     "output_type": "error",
     "traceback": [
      "\u001b[31m---------------------------------------------------------------------------\u001b[39m",
      "\u001b[31mKeyboardInterrupt\u001b[39m                         Traceback (most recent call last)",
      "\u001b[36mFile \u001b[39m\u001b[32mc:\\Users\\johnf\\OneDrive\\Desktop\\Spring 2025\\CS 485\\CS485-GT-code\\.venv\\Lib\\site-packages\\matplotlib_inline\\backend_inline.py:126\u001b[39m, in \u001b[36mflush_figures\u001b[39m\u001b[34m()\u001b[39m\n\u001b[32m    123\u001b[39m \u001b[38;5;28;01mif\u001b[39;00m InlineBackend.instance().close_figures:\n\u001b[32m    124\u001b[39m     \u001b[38;5;66;03m# ignore the tracking, just draw and close all figures\u001b[39;00m\n\u001b[32m    125\u001b[39m     \u001b[38;5;28;01mtry\u001b[39;00m:\n\u001b[32m--> \u001b[39m\u001b[32m126\u001b[39m         \u001b[38;5;28;01mreturn\u001b[39;00m \u001b[43mshow\u001b[49m\u001b[43m(\u001b[49m\u001b[38;5;28;43;01mTrue\u001b[39;49;00m\u001b[43m)\u001b[49m\n\u001b[32m    127\u001b[39m     \u001b[38;5;28;01mexcept\u001b[39;00m \u001b[38;5;167;01mException\u001b[39;00m \u001b[38;5;28;01mas\u001b[39;00m e:\n\u001b[32m    128\u001b[39m         \u001b[38;5;66;03m# safely show traceback if in IPython, else raise\u001b[39;00m\n\u001b[32m    129\u001b[39m         ip = get_ipython()\n",
      "\u001b[36mFile \u001b[39m\u001b[32mc:\\Users\\johnf\\OneDrive\\Desktop\\Spring 2025\\CS 485\\CS485-GT-code\\.venv\\Lib\\site-packages\\matplotlib_inline\\backend_inline.py:90\u001b[39m, in \u001b[36mshow\u001b[39m\u001b[34m(close, block)\u001b[39m\n\u001b[32m     88\u001b[39m \u001b[38;5;28;01mtry\u001b[39;00m:\n\u001b[32m     89\u001b[39m     \u001b[38;5;28;01mfor\u001b[39;00m figure_manager \u001b[38;5;129;01min\u001b[39;00m Gcf.get_all_fig_managers():\n\u001b[32m---> \u001b[39m\u001b[32m90\u001b[39m         \u001b[43mdisplay\u001b[49m\u001b[43m(\u001b[49m\n\u001b[32m     91\u001b[39m \u001b[43m            \u001b[49m\u001b[43mfigure_manager\u001b[49m\u001b[43m.\u001b[49m\u001b[43mcanvas\u001b[49m\u001b[43m.\u001b[49m\u001b[43mfigure\u001b[49m\u001b[43m,\u001b[49m\n\u001b[32m     92\u001b[39m \u001b[43m            \u001b[49m\u001b[43mmetadata\u001b[49m\u001b[43m=\u001b[49m\u001b[43m_fetch_figure_metadata\u001b[49m\u001b[43m(\u001b[49m\u001b[43mfigure_manager\u001b[49m\u001b[43m.\u001b[49m\u001b[43mcanvas\u001b[49m\u001b[43m.\u001b[49m\u001b[43mfigure\u001b[49m\u001b[43m)\u001b[49m\n\u001b[32m     93\u001b[39m \u001b[43m        \u001b[49m\u001b[43m)\u001b[49m\n\u001b[32m     94\u001b[39m \u001b[38;5;28;01mfinally\u001b[39;00m:\n\u001b[32m     95\u001b[39m     show._to_draw = []\n",
      "\u001b[36mFile \u001b[39m\u001b[32mc:\\Users\\johnf\\OneDrive\\Desktop\\Spring 2025\\CS 485\\CS485-GT-code\\.venv\\Lib\\site-packages\\IPython\\core\\display_functions.py:278\u001b[39m, in \u001b[36mdisplay\u001b[39m\u001b[34m(include, exclude, metadata, transient, display_id, raw, clear, *objs, **kwargs)\u001b[39m\n\u001b[32m    276\u001b[39m     publish_display_data(data=obj, metadata=metadata, **kwargs)\n\u001b[32m    277\u001b[39m \u001b[38;5;28;01melse\u001b[39;00m:\n\u001b[32m--> \u001b[39m\u001b[32m278\u001b[39m     format_dict, md_dict = \u001b[38;5;28;43mformat\u001b[39;49m\u001b[43m(\u001b[49m\u001b[43mobj\u001b[49m\u001b[43m,\u001b[49m\u001b[43m \u001b[49m\u001b[43minclude\u001b[49m\u001b[43m=\u001b[49m\u001b[43minclude\u001b[49m\u001b[43m,\u001b[49m\u001b[43m \u001b[49m\u001b[43mexclude\u001b[49m\u001b[43m=\u001b[49m\u001b[43mexclude\u001b[49m\u001b[43m)\u001b[49m\n\u001b[32m    279\u001b[39m     \u001b[38;5;28;01mif\u001b[39;00m \u001b[38;5;129;01mnot\u001b[39;00m format_dict:\n\u001b[32m    280\u001b[39m         \u001b[38;5;66;03m# nothing to display (e.g. _ipython_display_ took over)\u001b[39;00m\n\u001b[32m    281\u001b[39m         \u001b[38;5;28;01mcontinue\u001b[39;00m\n",
      "\u001b[36mFile \u001b[39m\u001b[32mc:\\Users\\johnf\\OneDrive\\Desktop\\Spring 2025\\CS 485\\CS485-GT-code\\.venv\\Lib\\site-packages\\IPython\\core\\formatters.py:238\u001b[39m, in \u001b[36mDisplayFormatter.format\u001b[39m\u001b[34m(self, obj, include, exclude)\u001b[39m\n\u001b[32m    236\u001b[39m md = \u001b[38;5;28;01mNone\u001b[39;00m\n\u001b[32m    237\u001b[39m \u001b[38;5;28;01mtry\u001b[39;00m:\n\u001b[32m--> \u001b[39m\u001b[32m238\u001b[39m     data = \u001b[43mformatter\u001b[49m\u001b[43m(\u001b[49m\u001b[43mobj\u001b[49m\u001b[43m)\u001b[49m\n\u001b[32m    239\u001b[39m \u001b[38;5;28;01mexcept\u001b[39;00m:\n\u001b[32m    240\u001b[39m     \u001b[38;5;66;03m# FIXME: log the exception\u001b[39;00m\n\u001b[32m    241\u001b[39m     \u001b[38;5;28;01mraise\u001b[39;00m\n",
      "\u001b[36mFile \u001b[39m\u001b[32mc:\\Users\\johnf\\OneDrive\\Desktop\\Spring 2025\\CS 485\\CS485-GT-code\\.venv\\Lib\\site-packages\\decorator.py:235\u001b[39m, in \u001b[36mdecorate.<locals>.fun\u001b[39m\u001b[34m(*args, **kw)\u001b[39m\n\u001b[32m    233\u001b[39m \u001b[38;5;28;01mif\u001b[39;00m \u001b[38;5;129;01mnot\u001b[39;00m kwsyntax:\n\u001b[32m    234\u001b[39m     args, kw = fix(args, kw, sig)\n\u001b[32m--> \u001b[39m\u001b[32m235\u001b[39m \u001b[38;5;28;01mreturn\u001b[39;00m \u001b[43mcaller\u001b[49m\u001b[43m(\u001b[49m\u001b[43mfunc\u001b[49m\u001b[43m,\u001b[49m\u001b[43m \u001b[49m\u001b[43m*\u001b[49m\u001b[43m(\u001b[49m\u001b[43mextras\u001b[49m\u001b[43m \u001b[49m\u001b[43m+\u001b[49m\u001b[43m \u001b[49m\u001b[43margs\u001b[49m\u001b[43m)\u001b[49m\u001b[43m,\u001b[49m\u001b[43m \u001b[49m\u001b[43m*\u001b[49m\u001b[43m*\u001b[49m\u001b[43mkw\u001b[49m\u001b[43m)\u001b[49m\n",
      "\u001b[36mFile \u001b[39m\u001b[32mc:\\Users\\johnf\\OneDrive\\Desktop\\Spring 2025\\CS 485\\CS485-GT-code\\.venv\\Lib\\site-packages\\IPython\\core\\formatters.py:282\u001b[39m, in \u001b[36mcatch_format_error\u001b[39m\u001b[34m(method, self, *args, **kwargs)\u001b[39m\n\u001b[32m    280\u001b[39m \u001b[38;5;250m\u001b[39m\u001b[33;03m\"\"\"show traceback on failed format call\"\"\"\u001b[39;00m\n\u001b[32m    281\u001b[39m \u001b[38;5;28;01mtry\u001b[39;00m:\n\u001b[32m--> \u001b[39m\u001b[32m282\u001b[39m     r = \u001b[43mmethod\u001b[49m\u001b[43m(\u001b[49m\u001b[38;5;28;43mself\u001b[39;49m\u001b[43m,\u001b[49m\u001b[43m \u001b[49m\u001b[43m*\u001b[49m\u001b[43margs\u001b[49m\u001b[43m,\u001b[49m\u001b[43m \u001b[49m\u001b[43m*\u001b[49m\u001b[43m*\u001b[49m\u001b[43mkwargs\u001b[49m\u001b[43m)\u001b[49m\n\u001b[32m    283\u001b[39m \u001b[38;5;28;01mexcept\u001b[39;00m \u001b[38;5;167;01mNotImplementedError\u001b[39;00m:\n\u001b[32m    284\u001b[39m     \u001b[38;5;66;03m# don't warn on NotImplementedErrors\u001b[39;00m\n\u001b[32m    285\u001b[39m     \u001b[38;5;28;01mreturn\u001b[39;00m \u001b[38;5;28mself\u001b[39m._check_return(\u001b[38;5;28;01mNone\u001b[39;00m, args[\u001b[32m0\u001b[39m])\n",
      "\u001b[36mFile \u001b[39m\u001b[32mc:\\Users\\johnf\\OneDrive\\Desktop\\Spring 2025\\CS 485\\CS485-GT-code\\.venv\\Lib\\site-packages\\IPython\\core\\formatters.py:402\u001b[39m, in \u001b[36mBaseFormatter.__call__\u001b[39m\u001b[34m(self, obj)\u001b[39m\n\u001b[32m    400\u001b[39m     \u001b[38;5;28;01mpass\u001b[39;00m\n\u001b[32m    401\u001b[39m \u001b[38;5;28;01melse\u001b[39;00m:\n\u001b[32m--> \u001b[39m\u001b[32m402\u001b[39m     \u001b[38;5;28;01mreturn\u001b[39;00m \u001b[43mprinter\u001b[49m\u001b[43m(\u001b[49m\u001b[43mobj\u001b[49m\u001b[43m)\u001b[49m\n\u001b[32m    403\u001b[39m \u001b[38;5;66;03m# Finally look for special method names\u001b[39;00m\n\u001b[32m    404\u001b[39m method = get_real_method(obj, \u001b[38;5;28mself\u001b[39m.print_method)\n",
      "\u001b[36mFile \u001b[39m\u001b[32mc:\\Users\\johnf\\OneDrive\\Desktop\\Spring 2025\\CS 485\\CS485-GT-code\\.venv\\Lib\\site-packages\\IPython\\core\\pylabtools.py:170\u001b[39m, in \u001b[36mprint_figure\u001b[39m\u001b[34m(fig, fmt, bbox_inches, base64, **kwargs)\u001b[39m\n\u001b[32m    167\u001b[39m     \u001b[38;5;28;01mfrom\u001b[39;00m\u001b[38;5;250m \u001b[39m\u001b[34;01mmatplotlib\u001b[39;00m\u001b[34;01m.\u001b[39;00m\u001b[34;01mbackend_bases\u001b[39;00m\u001b[38;5;250m \u001b[39m\u001b[38;5;28;01mimport\u001b[39;00m FigureCanvasBase\n\u001b[32m    168\u001b[39m     FigureCanvasBase(fig)\n\u001b[32m--> \u001b[39m\u001b[32m170\u001b[39m \u001b[43mfig\u001b[49m\u001b[43m.\u001b[49m\u001b[43mcanvas\u001b[49m\u001b[43m.\u001b[49m\u001b[43mprint_figure\u001b[49m\u001b[43m(\u001b[49m\u001b[43mbytes_io\u001b[49m\u001b[43m,\u001b[49m\u001b[43m \u001b[49m\u001b[43m*\u001b[49m\u001b[43m*\u001b[49m\u001b[43mkw\u001b[49m\u001b[43m)\u001b[49m\n\u001b[32m    171\u001b[39m data = bytes_io.getvalue()\n\u001b[32m    172\u001b[39m \u001b[38;5;28;01mif\u001b[39;00m fmt == \u001b[33m'\u001b[39m\u001b[33msvg\u001b[39m\u001b[33m'\u001b[39m:\n",
      "\u001b[36mFile \u001b[39m\u001b[32mc:\\Users\\johnf\\OneDrive\\Desktop\\Spring 2025\\CS 485\\CS485-GT-code\\.venv\\Lib\\site-packages\\matplotlib\\backend_bases.py:2155\u001b[39m, in \u001b[36mFigureCanvasBase.print_figure\u001b[39m\u001b[34m(self, filename, dpi, facecolor, edgecolor, orientation, format, bbox_inches, pad_inches, bbox_extra_artists, backend, **kwargs)\u001b[39m\n\u001b[32m   2152\u001b[39m     \u001b[38;5;66;03m# we do this instead of `self.figure.draw_without_rendering`\u001b[39;00m\n\u001b[32m   2153\u001b[39m     \u001b[38;5;66;03m# so that we can inject the orientation\u001b[39;00m\n\u001b[32m   2154\u001b[39m     \u001b[38;5;28;01mwith\u001b[39;00m \u001b[38;5;28mgetattr\u001b[39m(renderer, \u001b[33m\"\u001b[39m\u001b[33m_draw_disabled\u001b[39m\u001b[33m\"\u001b[39m, nullcontext)():\n\u001b[32m-> \u001b[39m\u001b[32m2155\u001b[39m         \u001b[38;5;28;43mself\u001b[39;49m\u001b[43m.\u001b[49m\u001b[43mfigure\u001b[49m\u001b[43m.\u001b[49m\u001b[43mdraw\u001b[49m\u001b[43m(\u001b[49m\u001b[43mrenderer\u001b[49m\u001b[43m)\u001b[49m\n\u001b[32m   2156\u001b[39m \u001b[38;5;28;01mif\u001b[39;00m bbox_inches:\n\u001b[32m   2157\u001b[39m     \u001b[38;5;28;01mif\u001b[39;00m bbox_inches == \u001b[33m\"\u001b[39m\u001b[33mtight\u001b[39m\u001b[33m\"\u001b[39m:\n",
      "\u001b[36mFile \u001b[39m\u001b[32mc:\\Users\\johnf\\OneDrive\\Desktop\\Spring 2025\\CS 485\\CS485-GT-code\\.venv\\Lib\\site-packages\\matplotlib\\artist.py:94\u001b[39m, in \u001b[36m_finalize_rasterization.<locals>.draw_wrapper\u001b[39m\u001b[34m(artist, renderer, *args, **kwargs)\u001b[39m\n\u001b[32m     92\u001b[39m \u001b[38;5;129m@wraps\u001b[39m(draw)\n\u001b[32m     93\u001b[39m \u001b[38;5;28;01mdef\u001b[39;00m\u001b[38;5;250m \u001b[39m\u001b[34mdraw_wrapper\u001b[39m(artist, renderer, *args, **kwargs):\n\u001b[32m---> \u001b[39m\u001b[32m94\u001b[39m     result = \u001b[43mdraw\u001b[49m\u001b[43m(\u001b[49m\u001b[43martist\u001b[49m\u001b[43m,\u001b[49m\u001b[43m \u001b[49m\u001b[43mrenderer\u001b[49m\u001b[43m,\u001b[49m\u001b[43m \u001b[49m\u001b[43m*\u001b[49m\u001b[43margs\u001b[49m\u001b[43m,\u001b[49m\u001b[43m \u001b[49m\u001b[43m*\u001b[49m\u001b[43m*\u001b[49m\u001b[43mkwargs\u001b[49m\u001b[43m)\u001b[49m\n\u001b[32m     95\u001b[39m     \u001b[38;5;28;01mif\u001b[39;00m renderer._rasterizing:\n\u001b[32m     96\u001b[39m         renderer.stop_rasterizing()\n",
      "\u001b[36mFile \u001b[39m\u001b[32mc:\\Users\\johnf\\OneDrive\\Desktop\\Spring 2025\\CS 485\\CS485-GT-code\\.venv\\Lib\\site-packages\\matplotlib\\artist.py:71\u001b[39m, in \u001b[36mallow_rasterization.<locals>.draw_wrapper\u001b[39m\u001b[34m(artist, renderer)\u001b[39m\n\u001b[32m     68\u001b[39m     \u001b[38;5;28;01mif\u001b[39;00m artist.get_agg_filter() \u001b[38;5;129;01mis\u001b[39;00m \u001b[38;5;129;01mnot\u001b[39;00m \u001b[38;5;28;01mNone\u001b[39;00m:\n\u001b[32m     69\u001b[39m         renderer.start_filter()\n\u001b[32m---> \u001b[39m\u001b[32m71\u001b[39m     \u001b[38;5;28;01mreturn\u001b[39;00m \u001b[43mdraw\u001b[49m\u001b[43m(\u001b[49m\u001b[43martist\u001b[49m\u001b[43m,\u001b[49m\u001b[43m \u001b[49m\u001b[43mrenderer\u001b[49m\u001b[43m)\u001b[49m\n\u001b[32m     72\u001b[39m \u001b[38;5;28;01mfinally\u001b[39;00m:\n\u001b[32m     73\u001b[39m     \u001b[38;5;28;01mif\u001b[39;00m artist.get_agg_filter() \u001b[38;5;129;01mis\u001b[39;00m \u001b[38;5;129;01mnot\u001b[39;00m \u001b[38;5;28;01mNone\u001b[39;00m:\n",
      "\u001b[36mFile \u001b[39m\u001b[32mc:\\Users\\johnf\\OneDrive\\Desktop\\Spring 2025\\CS 485\\CS485-GT-code\\.venv\\Lib\\site-packages\\matplotlib\\figure.py:3257\u001b[39m, in \u001b[36mFigure.draw\u001b[39m\u001b[34m(self, renderer)\u001b[39m\n\u001b[32m   3254\u001b[39m             \u001b[38;5;66;03m# ValueError can occur when resizing a window.\u001b[39;00m\n\u001b[32m   3256\u001b[39m     \u001b[38;5;28mself\u001b[39m.patch.draw(renderer)\n\u001b[32m-> \u001b[39m\u001b[32m3257\u001b[39m     \u001b[43mmimage\u001b[49m\u001b[43m.\u001b[49m\u001b[43m_draw_list_compositing_images\u001b[49m\u001b[43m(\u001b[49m\n\u001b[32m   3258\u001b[39m \u001b[43m        \u001b[49m\u001b[43mrenderer\u001b[49m\u001b[43m,\u001b[49m\u001b[43m \u001b[49m\u001b[38;5;28;43mself\u001b[39;49m\u001b[43m,\u001b[49m\u001b[43m \u001b[49m\u001b[43martists\u001b[49m\u001b[43m,\u001b[49m\u001b[43m \u001b[49m\u001b[38;5;28;43mself\u001b[39;49m\u001b[43m.\u001b[49m\u001b[43msuppressComposite\u001b[49m\u001b[43m)\u001b[49m\n\u001b[32m   3260\u001b[39m     renderer.close_group(\u001b[33m'\u001b[39m\u001b[33mfigure\u001b[39m\u001b[33m'\u001b[39m)\n\u001b[32m   3261\u001b[39m \u001b[38;5;28;01mfinally\u001b[39;00m:\n",
      "\u001b[36mFile \u001b[39m\u001b[32mc:\\Users\\johnf\\OneDrive\\Desktop\\Spring 2025\\CS 485\\CS485-GT-code\\.venv\\Lib\\site-packages\\matplotlib\\image.py:134\u001b[39m, in \u001b[36m_draw_list_compositing_images\u001b[39m\u001b[34m(renderer, parent, artists, suppress_composite)\u001b[39m\n\u001b[32m    132\u001b[39m \u001b[38;5;28;01mif\u001b[39;00m not_composite \u001b[38;5;129;01mor\u001b[39;00m \u001b[38;5;129;01mnot\u001b[39;00m has_images:\n\u001b[32m    133\u001b[39m     \u001b[38;5;28;01mfor\u001b[39;00m a \u001b[38;5;129;01min\u001b[39;00m artists:\n\u001b[32m--> \u001b[39m\u001b[32m134\u001b[39m         \u001b[43ma\u001b[49m\u001b[43m.\u001b[49m\u001b[43mdraw\u001b[49m\u001b[43m(\u001b[49m\u001b[43mrenderer\u001b[49m\u001b[43m)\u001b[49m\n\u001b[32m    135\u001b[39m \u001b[38;5;28;01melse\u001b[39;00m:\n\u001b[32m    136\u001b[39m     \u001b[38;5;66;03m# Composite any adjacent images together\u001b[39;00m\n\u001b[32m    137\u001b[39m     image_group = []\n",
      "\u001b[36mFile \u001b[39m\u001b[32mc:\\Users\\johnf\\OneDrive\\Desktop\\Spring 2025\\CS 485\\CS485-GT-code\\.venv\\Lib\\site-packages\\matplotlib\\artist.py:71\u001b[39m, in \u001b[36mallow_rasterization.<locals>.draw_wrapper\u001b[39m\u001b[34m(artist, renderer)\u001b[39m\n\u001b[32m     68\u001b[39m     \u001b[38;5;28;01mif\u001b[39;00m artist.get_agg_filter() \u001b[38;5;129;01mis\u001b[39;00m \u001b[38;5;129;01mnot\u001b[39;00m \u001b[38;5;28;01mNone\u001b[39;00m:\n\u001b[32m     69\u001b[39m         renderer.start_filter()\n\u001b[32m---> \u001b[39m\u001b[32m71\u001b[39m     \u001b[38;5;28;01mreturn\u001b[39;00m \u001b[43mdraw\u001b[49m\u001b[43m(\u001b[49m\u001b[43martist\u001b[49m\u001b[43m,\u001b[49m\u001b[43m \u001b[49m\u001b[43mrenderer\u001b[49m\u001b[43m)\u001b[49m\n\u001b[32m     72\u001b[39m \u001b[38;5;28;01mfinally\u001b[39;00m:\n\u001b[32m     73\u001b[39m     \u001b[38;5;28;01mif\u001b[39;00m artist.get_agg_filter() \u001b[38;5;129;01mis\u001b[39;00m \u001b[38;5;129;01mnot\u001b[39;00m \u001b[38;5;28;01mNone\u001b[39;00m:\n",
      "\u001b[36mFile \u001b[39m\u001b[32mc:\\Users\\johnf\\OneDrive\\Desktop\\Spring 2025\\CS 485\\CS485-GT-code\\.venv\\Lib\\site-packages\\matplotlib\\axes\\_base.py:3210\u001b[39m, in \u001b[36m_AxesBase.draw\u001b[39m\u001b[34m(self, renderer)\u001b[39m\n\u001b[32m   3207\u001b[39m \u001b[38;5;28;01mif\u001b[39;00m artists_rasterized:\n\u001b[32m   3208\u001b[39m     _draw_rasterized(\u001b[38;5;28mself\u001b[39m.get_figure(root=\u001b[38;5;28;01mTrue\u001b[39;00m), artists_rasterized, renderer)\n\u001b[32m-> \u001b[39m\u001b[32m3210\u001b[39m \u001b[43mmimage\u001b[49m\u001b[43m.\u001b[49m\u001b[43m_draw_list_compositing_images\u001b[49m\u001b[43m(\u001b[49m\n\u001b[32m   3211\u001b[39m \u001b[43m    \u001b[49m\u001b[43mrenderer\u001b[49m\u001b[43m,\u001b[49m\u001b[43m \u001b[49m\u001b[38;5;28;43mself\u001b[39;49m\u001b[43m,\u001b[49m\u001b[43m \u001b[49m\u001b[43martists\u001b[49m\u001b[43m,\u001b[49m\u001b[43m \u001b[49m\u001b[38;5;28;43mself\u001b[39;49m\u001b[43m.\u001b[49m\u001b[43mget_figure\u001b[49m\u001b[43m(\u001b[49m\u001b[43mroot\u001b[49m\u001b[43m=\u001b[49m\u001b[38;5;28;43;01mTrue\u001b[39;49;00m\u001b[43m)\u001b[49m\u001b[43m.\u001b[49m\u001b[43msuppressComposite\u001b[49m\u001b[43m)\u001b[49m\n\u001b[32m   3213\u001b[39m renderer.close_group(\u001b[33m'\u001b[39m\u001b[33maxes\u001b[39m\u001b[33m'\u001b[39m)\n\u001b[32m   3214\u001b[39m \u001b[38;5;28mself\u001b[39m.stale = \u001b[38;5;28;01mFalse\u001b[39;00m\n",
      "\u001b[36mFile \u001b[39m\u001b[32mc:\\Users\\johnf\\OneDrive\\Desktop\\Spring 2025\\CS 485\\CS485-GT-code\\.venv\\Lib\\site-packages\\matplotlib\\image.py:134\u001b[39m, in \u001b[36m_draw_list_compositing_images\u001b[39m\u001b[34m(renderer, parent, artists, suppress_composite)\u001b[39m\n\u001b[32m    132\u001b[39m \u001b[38;5;28;01mif\u001b[39;00m not_composite \u001b[38;5;129;01mor\u001b[39;00m \u001b[38;5;129;01mnot\u001b[39;00m has_images:\n\u001b[32m    133\u001b[39m     \u001b[38;5;28;01mfor\u001b[39;00m a \u001b[38;5;129;01min\u001b[39;00m artists:\n\u001b[32m--> \u001b[39m\u001b[32m134\u001b[39m         \u001b[43ma\u001b[49m\u001b[43m.\u001b[49m\u001b[43mdraw\u001b[49m\u001b[43m(\u001b[49m\u001b[43mrenderer\u001b[49m\u001b[43m)\u001b[49m\n\u001b[32m    135\u001b[39m \u001b[38;5;28;01melse\u001b[39;00m:\n\u001b[32m    136\u001b[39m     \u001b[38;5;66;03m# Composite any adjacent images together\u001b[39;00m\n\u001b[32m    137\u001b[39m     image_group = []\n",
      "\u001b[36mFile \u001b[39m\u001b[32mc:\\Users\\johnf\\OneDrive\\Desktop\\Spring 2025\\CS 485\\CS485-GT-code\\.venv\\Lib\\site-packages\\matplotlib\\artist.py:38\u001b[39m, in \u001b[36m_prevent_rasterization.<locals>.draw_wrapper\u001b[39m\u001b[34m(artist, renderer, *args, **kwargs)\u001b[39m\n\u001b[32m     35\u001b[39m     renderer.stop_rasterizing()\n\u001b[32m     36\u001b[39m     renderer._rasterizing = \u001b[38;5;28;01mFalse\u001b[39;00m\n\u001b[32m---> \u001b[39m\u001b[32m38\u001b[39m \u001b[38;5;28;01mreturn\u001b[39;00m \u001b[43mdraw\u001b[49m\u001b[43m(\u001b[49m\u001b[43martist\u001b[49m\u001b[43m,\u001b[49m\u001b[43m \u001b[49m\u001b[43mrenderer\u001b[49m\u001b[43m,\u001b[49m\u001b[43m \u001b[49m\u001b[43m*\u001b[49m\u001b[43margs\u001b[49m\u001b[43m,\u001b[49m\u001b[43m \u001b[49m\u001b[43m*\u001b[49m\u001b[43m*\u001b[49m\u001b[43mkwargs\u001b[49m\u001b[43m)\u001b[49m\n",
      "\u001b[36mFile \u001b[39m\u001b[32mc:\\Users\\johnf\\OneDrive\\Desktop\\Spring 2025\\CS 485\\CS485-GT-code\\.venv\\Lib\\site-packages\\matplotlib\\patches.py:4462\u001b[39m, in \u001b[36mFancyArrowPatch.draw\u001b[39m\u001b[34m(self, renderer)\u001b[39m\n\u001b[32m   4458\u001b[39m \u001b[38;5;66;03m# FIXME: dpi_cor is for the dpi-dependency of the linewidth.  There\u001b[39;00m\n\u001b[32m   4459\u001b[39m \u001b[38;5;66;03m# could be room for improvement.  Maybe _get_path_in_displaycoord could\u001b[39;00m\n\u001b[32m   4460\u001b[39m \u001b[38;5;66;03m# take a renderer argument, but get_path should be adapted too.\u001b[39;00m\n\u001b[32m   4461\u001b[39m \u001b[38;5;28mself\u001b[39m._dpi_cor = renderer.points_to_pixels(\u001b[32m1.\u001b[39m)\n\u001b[32m-> \u001b[39m\u001b[32m4462\u001b[39m path, fillable = \u001b[38;5;28;43mself\u001b[39;49m\u001b[43m.\u001b[49m\u001b[43m_get_path_in_displaycoord\u001b[49m\u001b[43m(\u001b[49m\u001b[43m)\u001b[49m\n\u001b[32m   4464\u001b[39m \u001b[38;5;28;01mif\u001b[39;00m \u001b[38;5;129;01mnot\u001b[39;00m np.iterable(fillable):\n\u001b[32m   4465\u001b[39m     path = [path]\n",
      "\u001b[36mFile \u001b[39m\u001b[32mc:\\Users\\johnf\\OneDrive\\Desktop\\Spring 2025\\CS 485\\CS485-GT-code\\.venv\\Lib\\site-packages\\matplotlib\\patches.py:4437\u001b[39m, in \u001b[36mFancyArrowPatch._get_path_in_displaycoord\u001b[39m\u001b[34m(self)\u001b[39m\n\u001b[32m   4435\u001b[39m     posB = \u001b[38;5;28mself\u001b[39m._convert_xy_units(\u001b[38;5;28mself\u001b[39m._posA_posB[\u001b[32m1\u001b[39m])\n\u001b[32m   4436\u001b[39m     (posA, posB) = \u001b[38;5;28mself\u001b[39m.get_transform().transform((posA, posB))\n\u001b[32m-> \u001b[39m\u001b[32m4437\u001b[39m     _path = \u001b[38;5;28;43mself\u001b[39;49m\u001b[43m.\u001b[49m\u001b[43mget_connectionstyle\u001b[49m\u001b[43m(\u001b[49m\u001b[43m)\u001b[49m\u001b[43m(\u001b[49m\u001b[43mposA\u001b[49m\u001b[43m,\u001b[49m\u001b[43m \u001b[49m\u001b[43mposB\u001b[49m\u001b[43m,\u001b[49m\n\u001b[32m   4438\u001b[39m \u001b[43m                                       \u001b[49m\u001b[43mpatchA\u001b[49m\u001b[43m=\u001b[49m\u001b[38;5;28;43mself\u001b[39;49m\u001b[43m.\u001b[49m\u001b[43mpatchA\u001b[49m\u001b[43m,\u001b[49m\n\u001b[32m   4439\u001b[39m \u001b[43m                                       \u001b[49m\u001b[43mpatchB\u001b[49m\u001b[43m=\u001b[49m\u001b[38;5;28;43mself\u001b[39;49m\u001b[43m.\u001b[49m\u001b[43mpatchB\u001b[49m\u001b[43m,\u001b[49m\n\u001b[32m   4440\u001b[39m \u001b[43m                                       \u001b[49m\u001b[43mshrinkA\u001b[49m\u001b[43m=\u001b[49m\u001b[38;5;28;43mself\u001b[39;49m\u001b[43m.\u001b[49m\u001b[43mshrinkA\u001b[49m\u001b[43m \u001b[49m\u001b[43m*\u001b[49m\u001b[43m \u001b[49m\u001b[43mdpi_cor\u001b[49m\u001b[43m,\u001b[49m\n\u001b[32m   4441\u001b[39m \u001b[43m                                       \u001b[49m\u001b[43mshrinkB\u001b[49m\u001b[43m=\u001b[49m\u001b[38;5;28;43mself\u001b[39;49m\u001b[43m.\u001b[49m\u001b[43mshrinkB\u001b[49m\u001b[43m \u001b[49m\u001b[43m*\u001b[49m\u001b[43m \u001b[49m\u001b[43mdpi_cor\u001b[49m\n\u001b[32m   4442\u001b[39m \u001b[43m                                       \u001b[49m\u001b[43m)\u001b[49m\n\u001b[32m   4443\u001b[39m \u001b[38;5;28;01melse\u001b[39;00m:\n\u001b[32m   4444\u001b[39m     _path = \u001b[38;5;28mself\u001b[39m.get_transform().transform_path(\u001b[38;5;28mself\u001b[39m._path_original)\n",
      "\u001b[36mFile \u001b[39m\u001b[32mc:\\Users\\johnf\\OneDrive\\Desktop\\Spring 2025\\CS 485\\CS485-GT-code\\.venv\\Lib\\site-packages\\matplotlib\\patches.py:2837\u001b[39m, in \u001b[36mConnectionStyle._Base.__call__\u001b[39m\u001b[34m(self, posA, posB, shrinkA, shrinkB, patchA, patchB)\u001b[39m\n\u001b[32m   2831\u001b[39m path = \u001b[38;5;28mself\u001b[39m.connect(posA, posB)\n\u001b[32m   2832\u001b[39m path = \u001b[38;5;28mself\u001b[39m._clip(\n\u001b[32m   2833\u001b[39m     path,\n\u001b[32m   2834\u001b[39m     \u001b[38;5;28mself\u001b[39m._in_patch(patchA) \u001b[38;5;28;01mif\u001b[39;00m patchA \u001b[38;5;28;01melse\u001b[39;00m \u001b[38;5;28;01mNone\u001b[39;00m,\n\u001b[32m   2835\u001b[39m     \u001b[38;5;28mself\u001b[39m._in_patch(patchB) \u001b[38;5;28;01mif\u001b[39;00m patchB \u001b[38;5;28;01melse\u001b[39;00m \u001b[38;5;28;01mNone\u001b[39;00m,\n\u001b[32m   2836\u001b[39m )\n\u001b[32m-> \u001b[39m\u001b[32m2837\u001b[39m path = \u001b[38;5;28;43mself\u001b[39;49m\u001b[43m.\u001b[49m\u001b[43m_clip\u001b[49m\u001b[43m(\u001b[49m\n\u001b[32m   2838\u001b[39m \u001b[43m    \u001b[49m\u001b[43mpath\u001b[49m\u001b[43m,\u001b[49m\n\u001b[32m   2839\u001b[39m \u001b[43m    \u001b[49m\u001b[43minside_circle\u001b[49m\u001b[43m(\u001b[49m\u001b[43m*\u001b[49m\u001b[43mpath\u001b[49m\u001b[43m.\u001b[49m\u001b[43mvertices\u001b[49m\u001b[43m[\u001b[49m\u001b[32;43m0\u001b[39;49m\u001b[43m]\u001b[49m\u001b[43m,\u001b[49m\u001b[43m \u001b[49m\u001b[43mshrinkA\u001b[49m\u001b[43m)\u001b[49m\u001b[43m \u001b[49m\u001b[38;5;28;43;01mif\u001b[39;49;00m\u001b[43m \u001b[49m\u001b[43mshrinkA\u001b[49m\u001b[43m \u001b[49m\u001b[38;5;28;43;01melse\u001b[39;49;00m\u001b[43m \u001b[49m\u001b[38;5;28;43;01mNone\u001b[39;49;00m\u001b[43m,\u001b[49m\n\u001b[32m   2840\u001b[39m \u001b[43m    \u001b[49m\u001b[43minside_circle\u001b[49m\u001b[43m(\u001b[49m\u001b[43m*\u001b[49m\u001b[43mpath\u001b[49m\u001b[43m.\u001b[49m\u001b[43mvertices\u001b[49m\u001b[43m[\u001b[49m\u001b[43m-\u001b[49m\u001b[32;43m1\u001b[39;49m\u001b[43m]\u001b[49m\u001b[43m,\u001b[49m\u001b[43m \u001b[49m\u001b[43mshrinkB\u001b[49m\u001b[43m)\u001b[49m\u001b[43m \u001b[49m\u001b[38;5;28;43;01mif\u001b[39;49;00m\u001b[43m \u001b[49m\u001b[43mshrinkB\u001b[49m\u001b[43m \u001b[49m\u001b[38;5;28;43;01melse\u001b[39;49;00m\u001b[43m \u001b[49m\u001b[38;5;28;43;01mNone\u001b[39;49;00m\n\u001b[32m   2841\u001b[39m \u001b[43m\u001b[49m\u001b[43m)\u001b[49m\n\u001b[32m   2842\u001b[39m \u001b[38;5;28;01mreturn\u001b[39;00m path\n",
      "\u001b[36mFile \u001b[39m\u001b[32mc:\\Users\\johnf\\OneDrive\\Desktop\\Spring 2025\\CS 485\\CS485-GT-code\\.venv\\Lib\\site-packages\\matplotlib\\patches.py:2815\u001b[39m, in \u001b[36mConnectionStyle._Base._clip\u001b[39m\u001b[34m(self, path, in_start, in_stop)\u001b[39m\n\u001b[32m   2813\u001b[39m \u001b[38;5;28;01mif\u001b[39;00m in_start:\n\u001b[32m   2814\u001b[39m     \u001b[38;5;28;01mtry\u001b[39;00m:\n\u001b[32m-> \u001b[39m\u001b[32m2815\u001b[39m         _, path = \u001b[43msplit_path_inout\u001b[49m\u001b[43m(\u001b[49m\u001b[43mpath\u001b[49m\u001b[43m,\u001b[49m\u001b[43m \u001b[49m\u001b[43min_start\u001b[49m\u001b[43m)\u001b[49m\n\u001b[32m   2816\u001b[39m     \u001b[38;5;28;01mexcept\u001b[39;00m \u001b[38;5;167;01mValueError\u001b[39;00m:\n\u001b[32m   2817\u001b[39m         \u001b[38;5;28;01mpass\u001b[39;00m\n",
      "\u001b[36mFile \u001b[39m\u001b[32mc:\\Users\\johnf\\OneDrive\\Desktop\\Spring 2025\\CS 485\\CS485-GT-code\\.venv\\Lib\\site-packages\\matplotlib\\bezier.py:378\u001b[39m, in \u001b[36msplit_path_inout\u001b[39m\u001b[34m(path, inside, tolerance, reorder_inout)\u001b[39m\n\u001b[32m    375\u001b[39m     \u001b[38;5;28;01mraise\u001b[39;00m \u001b[38;5;167;01mValueError\u001b[39;00m(\u001b[33m\"\u001b[39m\u001b[33mThe path does not intersect with the patch\u001b[39m\u001b[33m\"\u001b[39m)\n\u001b[32m    377\u001b[39m bp = bezier_path.reshape((-\u001b[32m1\u001b[39m, \u001b[32m2\u001b[39m))\n\u001b[32m--> \u001b[39m\u001b[32m378\u001b[39m left, right = \u001b[43msplit_bezier_intersecting_with_closedpath\u001b[49m\u001b[43m(\u001b[49m\n\u001b[32m    379\u001b[39m \u001b[43m    \u001b[49m\u001b[43mbp\u001b[49m\u001b[43m,\u001b[49m\u001b[43m \u001b[49m\u001b[43minside\u001b[49m\u001b[43m,\u001b[49m\u001b[43m \u001b[49m\u001b[43mtolerance\u001b[49m\u001b[43m)\u001b[49m\n\u001b[32m    380\u001b[39m \u001b[38;5;28;01mif\u001b[39;00m \u001b[38;5;28mlen\u001b[39m(left) == \u001b[32m2\u001b[39m:\n\u001b[32m    381\u001b[39m     codes_left = [Path.LINETO]\n",
      "\u001b[36mFile \u001b[39m\u001b[32mc:\\Users\\johnf\\OneDrive\\Desktop\\Spring 2025\\CS 485\\CS485-GT-code\\.venv\\Lib\\site-packages\\matplotlib\\bezier.py:338\u001b[39m, in \u001b[36msplit_bezier_intersecting_with_closedpath\u001b[39m\u001b[34m(bezier, inside_closedpath, tolerance)\u001b[39m\n\u001b[32m    316\u001b[39m \u001b[38;5;28;01mdef\u001b[39;00m\u001b[38;5;250m \u001b[39m\u001b[34msplit_bezier_intersecting_with_closedpath\u001b[39m(\n\u001b[32m    317\u001b[39m         bezier, inside_closedpath, tolerance=\u001b[32m0.01\u001b[39m):\n\u001b[32m    318\u001b[39m \u001b[38;5;250m    \u001b[39m\u001b[33;03m\"\"\"\u001b[39;00m\n\u001b[32m    319\u001b[39m \u001b[33;03m    Split a Bézier curve into two at the intersection with a closed path.\u001b[39;00m\n\u001b[32m    320\u001b[39m \n\u001b[32m   (...)\u001b[39m\u001b[32m    335\u001b[39m \u001b[33;03m        Lists of control points for the two Bézier segments.\u001b[39;00m\n\u001b[32m    336\u001b[39m \u001b[33;03m    \"\"\"\u001b[39;00m\n\u001b[32m--> \u001b[39m\u001b[32m338\u001b[39m     bz = \u001b[43mBezierSegment\u001b[49m\u001b[43m(\u001b[49m\u001b[43mbezier\u001b[49m\u001b[43m)\u001b[49m\n\u001b[32m    339\u001b[39m     bezier_point_at_t = bz.point_at_t\n\u001b[32m    341\u001b[39m     t0, t1 = find_bezier_t_intersecting_with_closedpath(\n\u001b[32m    342\u001b[39m         bezier_point_at_t, inside_closedpath, tolerance=tolerance)\n",
      "\u001b[36mFile \u001b[39m\u001b[32mc:\\Users\\johnf\\OneDrive\\Desktop\\Spring 2025\\CS 485\\CS485-GT-code\\.venv\\Lib\\site-packages\\matplotlib\\bezier.py:202\u001b[39m, in \u001b[36mBezierSegment.__init__\u001b[39m\u001b[34m(self, control_points)\u001b[39m\n\u001b[32m    200\u001b[39m \u001b[38;5;28mself\u001b[39m._cpoints = np.asarray(control_points)\n\u001b[32m    201\u001b[39m \u001b[38;5;28mself\u001b[39m._N, \u001b[38;5;28mself\u001b[39m._d = \u001b[38;5;28mself\u001b[39m._cpoints.shape\n\u001b[32m--> \u001b[39m\u001b[32m202\u001b[39m \u001b[38;5;28mself\u001b[39m._orders = \u001b[43mnp\u001b[49m\u001b[43m.\u001b[49m\u001b[43marange\u001b[49m\u001b[43m(\u001b[49m\u001b[38;5;28;43mself\u001b[39;49m\u001b[43m.\u001b[49m\u001b[43m_N\u001b[49m\u001b[43m)\u001b[49m\n\u001b[32m    203\u001b[39m coeff = [math.factorial(\u001b[38;5;28mself\u001b[39m._N - \u001b[32m1\u001b[39m)\n\u001b[32m    204\u001b[39m          // (math.factorial(i) * math.factorial(\u001b[38;5;28mself\u001b[39m._N - \u001b[32m1\u001b[39m - i))\n\u001b[32m    205\u001b[39m          \u001b[38;5;28;01mfor\u001b[39;00m i \u001b[38;5;129;01min\u001b[39;00m \u001b[38;5;28mrange\u001b[39m(\u001b[38;5;28mself\u001b[39m._N)]\n\u001b[32m    206\u001b[39m \u001b[38;5;28mself\u001b[39m._px = (\u001b[38;5;28mself\u001b[39m._cpoints.T * coeff).T\n",
      "\u001b[31mKeyboardInterrupt\u001b[39m: "
     ]
    }
   ],
   "source": [
    "DG = nx.read_edgelist('../congress_network/congress.edgelist', create_using=nx.DiGraph)\n",
    "\n",
    "nx.draw(DG, with_labels = True)\n",
    "print(DG)"
   ]
  },
  {
   "cell_type": "code",
   "execution_count": null,
   "id": "571ae25e",
   "metadata": {},
   "outputs": [
    {
     "data": {
      "text/plain": [
       "False"
      ]
     },
     "execution_count": 4,
     "metadata": {},
     "output_type": "execute_result"
    }
   ],
   "source": [
    "nx.is_strongly_connected(DG)"
   ]
  },
  {
   "cell_type": "code",
   "execution_count": null,
   "id": "1bf059e5",
   "metadata": {},
   "outputs": [
    {
     "data": {
      "text/plain": [
       "False"
      ]
     },
     "execution_count": 22,
     "metadata": {},
     "output_type": "execute_result"
    }
   ],
   "source": [
    "nx.has_eulerian_path(DG)"
   ]
  },
  {
   "cell_type": "code",
   "execution_count": null,
   "id": "2c8f24f3",
   "metadata": {},
   "outputs": [],
   "source": [
    "in_degree_sequence = sorted((d for n, d in DG.in_degree()), reverse=True)\n",
    "idmax = max(in_degree_sequence)\n",
    "out_degree_sequence = sorted((d for n, d in DG.out_degree()), reverse=True)\n",
    "odmax = max(out_degree_sequence)\n",
    "\n",
    "MaxInNode = 0\n",
    "for d in DG.nodes :\n",
    "    if DG.in_degree(d) == idmax :\n",
    "        MaxInNode = d\n",
    "\n",
    "MaxOutNode = 0\n",
    "for d in DG.nodes :\n",
    "    if DG.out_degree(d) == odmax :\n",
    "        MaxOutNode = d"
   ]
  },
  {
   "cell_type": "code",
   "execution_count": null,
   "id": "6e6fcddb",
   "metadata": {},
   "outputs": [
    {
     "name": "stdout",
     "output_type": "stream",
     "text": [
      "127\n",
      "210\n",
      "322\n",
      "367\n"
     ]
    }
   ],
   "source": [
    "print(idmax)\n",
    "print(odmax)\n",
    "print(MaxInNode)\n",
    "print(MaxOutNode)"
   ]
  },
  {
   "cell_type": "code",
   "execution_count": null,
   "id": "ba74e720",
   "metadata": {},
   "outputs": [
    {
     "name": "stdout",
     "output_type": "stream",
     "text": [
      "('322', 0.016696348346432712)\n",
      "('31', 0.0003157894736842106)\n"
     ]
    }
   ],
   "source": [
    "pr = nx.pagerank(DG, alpha=0.85, weight='weight')\n",
    "spr = sorted(pr.items(), key = lambda item: item[1], reverse = True) #Least important\n",
    "spr2 = sorted(pr.items(), key = lambda item: item[1]) #most Important\n",
    "print(spr[0])\n",
    "print(spr2[0])"
   ]
  },
  {
   "cell_type": "code",
   "execution_count": 5,
   "id": "72369221",
   "metadata": {},
   "outputs": [
    {
     "name": "stdout",
     "output_type": "stream",
     "text": [
      "GOPLeader\n"
     ]
    }
   ],
   "source": [
    "usernameList = [\"SenatorBaldwin\", \"SenJohnBarrasso\", \"SenatorBennet\", \"MarshaBlackburn\", \"SenBlumenthal\", \"RoyBlunt\", \"CoryBooker\", \"JohnBoozman\", \"SenatorBraun\", \"SenSherrodBrown\", \"SenatorCantwell\", \"SenCapito\", \"SenatorCardin\", \"SenatorCarper\", \"SenBobCasey\", \"SenBillCassidy\", \"ChrisCoons\", \"JohnCornyn\", \"SenCortezMasto\", \"SenTomCotton\", \"SenKevinCramer\", \"MikeCrapo\", \"SenTedCruz\", \"SteveDaines\", \"SenDuckworth\", \"SenatorDurbin\", \"SenJoniErnst\", \"SenFeinstein\", \"SenatorFischer\", \"SenGillibrand\", \"LindseyGrahamSC\", \"ChuckGrassley\", \"SenatorHagerty\", \"SenatorHassan\", \"HawleyMO\", \"MartinHeinrich\", \"SenatorHick\", \"maziehirono\", \"SenJohnHoeven\", \"SenHydeSmith\", \"JimInhofe\", \"SenRonJohnson\", \"timkaine\", \"SenMarkKelly\", \"SenJohnKennedy\", \"SenAngusKing\", \"SenAmyKlobuchar\", \"SenatorLankford\", \"SenatorLeahy\", \"SenMikeLee\", \"SenatorLujan\", \"SenLummis\", \"Sen_JoeManchin\", \"SenMarkey\", \"SenatorMenendez\", \"SenJeffMerkley\", \"JerryMoran\", \"lisamurkowski\", \"ChrisMurphyCT\", \"PattyMurray\", \"ossoff\", \"SenAlexPadilla\", \"RandPaul\", \"SenGaryPeters\", \"senrobportman\", \"SenJackReed\", \"SenatorRisch\", \"SenatorRomney\", \"SenJackyRosen\", \"marcorubio\", \"SenSanders\", \"SenSchumer\", \"SenRickScott\", \"SenatorTimScott\", \"SenatorShaheen\", \"SenatorSinema\", \"SenTinaSmith\", \"SenStabenow\", \"SenDanSullivan\", \"SenatorTester\", \"SenJohnThune\", \"SenThomTillis\", \"SenToomey\", \"SenTuberville\", \"ChrisVanHollen\", \"MarkWarner\", \"SenatorWarnock\", \"SenWarren\", \"SenWhitehouse\", \"SenatorWicker\", \"RonWyden\", \"SenToddYoung\", \"RepAdams\", \"Robert_Aderholt\", \"RepPeteAguilar\", \"RepRickAllen\", \"RepColinAllred\", \"RepArmstrongND\", \"RepArrington\", \"RepAuchincloss\", \"RepCindyAxne\", \"RepBrianBabin\", \"RepDonBacon\", \"RepJimBaird\", \"RepBalderson\", \"RepJimBanks\", \"RepAndyBarr\", \"RepBarragan\", \"RepKarenBass\", \"RepBeatty\", \"RepBera\", \"RepDonBeyer\", \"RepBice\", \"RepAndyBiggsAZ\", \"RepGusBilirakis\", \"SanfordBishop\", \"RepDanBishop\", \"RepLBR\", \"RepBoebert\", \"RepBonamici\", \"RepBost\", \"RepBourdeaux\", \"RepBowman\", \"CongBoyle\", \"RepKevinBrady\", \"RepMoBrooks\", \"RepAnthonyBrown\", \"RepShontelBrown\", \"RepBrownley\", \"VernBuchanan\", \"RepKenBuck\", \"RepLarryBucshon\", \"RepTedBudd\", \"RepTimBurchett\", \"michaelcburgess\", \"RepCori\", \"RepCheri\", \"RepKatCammack\", \"RepCarbajal\", \"RepCardenas\", \"RepMikeCarey\", \"RepJerryCarl\", \"RepAndreCarson\", \"RepBuddyCarter\", \"JudgeCarter\", \"RepTroyCarter\", \"RepEdCase\", \"RepCasten\", \"USRepKCastor\", \"JoaquinCastrotx\", \"RepCawthorn\", \"RepSteveChabot\", \"RepLizCheney\", \"CongresswomanSC\", \"RepJudyChu\", \"RepKClark\", \"RepYvetteClarke\", \"repcleaver\", \"RepBenCline\", \"RepCloudTX\", \"WhipClyburn\", \"Rep_Clyde\", \"RepCohen\", \"TomColeOK04\", \"RepJamesComer\", \"GerryConnolly\", \"RepLouCorrea\", \"RepJimCosta\", \"RepJoeCourtney\", \"RepAngieCraig\", \"RepCharlieCrist\", \"RepJasonCrow\", \"RepJohnCurtis\", \"RepDavids\", \"WarrenDavidson\", \"RodneyDavis\", \"RepDean\", \"RepPeterDeFazio\", \"RepDianaDeGette\", \"rosadelauro\", \"RepDelBene\", \"repdelgado\", \"RepValDemings\", \"RepDeSaulnier\", \"RepTedDeutch\", \"MarioDB\", \"RepDebDingell\", \"RepLloydDoggett\", \"RepDonaldsPress\", \"USRepMikeDoyle\", \"RepJeffDuncan\", \"DrNealDunnFL2\", \"RepTomEmmer\", \"RepEscobar\", \"RepAnnaEshoo\", \"RepEspaillat\", \"RepRonEstes\", \"RepDwightEvans\", \"RepPatFallon\", \"RepFeenstra\", \"RepDrewFerguson\", \"RepFischbach\", \"RepBrianFitz\", \"RepChuck\", \"RepFletcher\", \"RepBillFoster\", \"virginiafoxx\", \"RepLoisFrankel\", \"RepFranklin\", \"RepRussFulcher\", \"RepMattGaetz\", \"RepGallagher\", \"RepRubenGallego\", \"RepGaramendi\", \"RepGarbarino\", \"RepChuyGarcia\", \"RepMikeGarcia\", \"RepSylviaGarcia\", \"RepBobGibbs\", \"RepCarlos\", \"replouiegohmert\", \"RepGolden\", \"RepJimmyGomez\", \"RepTonyGonzales\", \"RepJenniffer\", \"RepGonzalez\", \"RepBobGood\", \"Lancegooden\", \"RepGosar\", \"RepJoshG\", \"RepKayGranger\", \"RepGarretGraves\", \"RepAlGreen\", \"RepMarkGreen\", \"RepMTG\", \"RepMGriffith\", \"RepRaulGrijalva\", \"RepGrothman\", \"RepMichaelGuest\", \"RepGuthrie\", \"RepJoshHarder\", \"RepHarshbarger\", \"RepHartzler\", \"RepJahanaHayes\", \"repkevinhern\", \"RepHerrell\", \"CongressmanHice\", \"RepBrianHiggins\", \"RepClayHiggins\", \"RepFrenchHill\", \"jahimes\", \"RepAshleyHinson\", \"RepHorsford\", \"RepHoulahan\", \"LeaderHoyer\", \"RepRichHudson\", \"RepHuffman\", \"RepHuizenga\", \"repdarrellissa\", \"JacksonLeeTX18\", \"RepRonnyJackson\", \"RepJacobs\", \"RepSaraJacobs\", \"RepJayapal\", \"RepJeffries\", \"RepBillJohnson\", \"RepDustyJohnson\", \"RepEBJ\", \"RepHankJohnson\", \"RepMikeJohnson\", \"RepMondaire\", \"Jim_Jordan\", \"RepDaveJoyce\", \"RepJohnJoyce\", \"RepJohnKatko\", \"USRepKeating\", \"RepFredKeller\", \"MikeKellyPA\", \"RepRobinKelly\", \"RepRoKhanna\", \"RepDanKildee\", \"RepDerekKilmer\", \"RepAndyKimNJ\", \"RepYoungKim\", \"RepRonKind\", \"RepKirkpatrick\", \"CongressmanRaja\", \"RepAnnieKuster\", \"RepDavidKustoff\", \"RepLaHood\", \"RepLaMalfa\", \"JimLangevin\", \"RepRickLarsen\", \"RepJohnLarson\", \"boblatta\", \"RepLaTurner\", \"RepLawrence\", \"RepAlLawsonJr\", \"RepBarbaraLee\", \"RepSusieLee\", \"RepTeresaLF\", \"RepDLesko\", \"RepJuliaLetlow\", \"RepAndyLevin\", \"RepMikeLevin\", \"RepTedLieu\", \"USRepLong\", \"RepLoudermilk\", \"RepLowenthal\", \"RepFrankLucas\", \"RepBlaine\", \"RepElaineLuria\", \"RepNancyMace\", \"RepMalinowski\", \"RepMalliotakis\", \"RepMaloney\", \"RepSeanMaloney\", \"RepKManning\", \"RepThomasMassie\", \"RepBrianMast\", \"DorisMatsui\", \"RepLucyMcBath\", \"GOPLeader\", \"RepMcCaul\", \"RepLisaMcClain\", \"BettyMcCollum04\", \"RepMcEachin\", \"RepMcGovern\", \"PatrickMcHenry\", \"RepMcKinley\", \"RepGregoryMeeks\", \"RepMeijer\", \"RepGraceMeng\", \"RepMeuser\", \"RepKweisiMfume\", \"RepMMM\", \"RepCarolMiller\", \"RepMaryMiller\", \"RepAlexMooney\", \"RepBarryMoore\", \"RepBlakeMoore\", \"RepGwenMoore\", \"RepJoeMorelle\", \"RepMullin\", \"RepGregMurphy\", \"RepStephMurphy\", \"RepJerryNadler\", \"gracenapolitano\", \"RepRichardNeal\", \"RepJoeNeguse\", \"RepTroyNehls\", \"RepNewhouse\", \"RepMarieNewman\", \"DonaldNorcross\", \"RepRalphNorman\", \"EleanorNorton\", \"RepOHalleran\", \"JayObernolte\", \"Ilhan\", \"RepBurgessOwens\", \"CongPalazzo\", \"FrankPallone\", \"USRepGaryPalmer\", \"RepJimmyPanetta\", \"RepChrisPappas\", \"BillPascrell\", \"RepDonaldPayne\", \"SpeakerPelosi\", \"RepPerlmutter\", \"RepScottPeters\", \"RepPfluger\", \"RepDeanPhillips\", \"chelliepingree\", \"StaceyPlaskett\", \"repmarkpocan\", \"RepKatiePorter\", \"RepPressley\", \"RepDavidEPrice\", \"RepMikeQuigley\", \"RepRaskin\", \"GReschenthaler\", \"RepKathleenRice\", \"RepTomRice\", \"cathymcmorris\", \"RepMikeRogersAL\", \"RepJohnRose\", \"RepRosendale\", \"RepDeborahRoss\", \"RepDavidRouzer\", \"RepChipRoy\", \"RepRoybalAllard\", \"RepRaulRuizMD\", \"Call_Me_Dutch\", \"RepBobbyRush\", \"RepTimRyan\", \"Kilili_Sablan\", \"RepMariaSalazar\", \"RepLindaSanchez\", \"RepSarbanes\", \"SteveScalise\", \"RepMGS\", \"janschakowsky\", \"RepAdamSchiff\", \"RepSchneider\", \"RepSchrader\", \"RepKimSchrier\", \"RepDavid\", \"AustinScottGA08\", \"BobbyScott\", \"PeteSessions\", \"RepTerriSewell\", \"BradSherman\", \"RepSherrill\", \"CongMikeSimpson\", \"RepSires\", \"RepSlotkin\", \"RepAdamSmith\", \"RepAdrianSmith\", \"RepJasonSmith\", \"RepSmucker\", \"RepDarrenSoto\", \"RepSpanberger\", \"RepSpartz\", \"RepSpeier\", \"Rep_Stansbury\", \"RepGregStanton\", \"RepPeteStauber\", \"RepSteel\", \"RepStefanik\", \"RepBryanSteil\", \"RepGregSteube\", \"RepHaleyStevens\", \"RepChrisStewart\", \"RepStricklandWA\", \"RepTomSuozzi\", \"RepSwalwell\", \"RepMarkTakano\", \"claudiatenney\", \"BennieGThompson\", \"RepThompson\", \"RepTiffany\", \"RepTimmons\", \"repdinatitus\", \"RepRashida\", \"RepPaulTonko\", \"NormaJTorres\", \"RepRitchie\", \"RepLoriTrahan\", \"RepDavidTrone\", \"RepMikeTurner\", \"RepUnderwood\", \"RepDavidValadao\", \"RepBethVanDuyne\", \"RepJuanVargas\", \"RepVeasey\", \"NydiaVelazquez\", \"RepAnnWagner\", \"RepWalberg\", \"RepWalorski\", \"michaelgwaltz\", \"RepDWStweets\", \"RepBonnie\", \"RepWebster\", \"PeterWelch\", \"RepWesterman\", \"RepWexton\", \"RepSusanWild\", \"RepNikema\", \"RepRWilliams\", \"RepWilson\", \"RepJoeWilson\", \"RobWittman\", \"rep_stevewomack\", \"RepJohnYarmuth\", \"RepLeeZeldin\"]\n",
    "\n",
    "print(usernameList[322])"
   ]
  }
 ],
 "metadata": {
  "kernelspec": {
   "display_name": ".venv",
   "language": "python",
   "name": "python3"
  },
  "language_info": {
   "codemirror_mode": {
    "name": "ipython",
    "version": 3
   },
   "file_extension": ".py",
   "mimetype": "text/x-python",
   "name": "python",
   "nbconvert_exporter": "python",
   "pygments_lexer": "ipython3",
   "version": "3.13.3"
  }
 },
 "nbformat": 4,
 "nbformat_minor": 5
}
